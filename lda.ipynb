{
 "cells": [
  {
   "cell_type": "code",
   "execution_count": 1,
   "metadata": {},
   "outputs": [],
   "source": [
    "import numpy as np"
   ]
  },
  {
   "cell_type": "code",
   "execution_count": 38,
   "metadata": {},
   "outputs": [],
   "source": [
    "#generate random data points\n",
    "n = [5,5,5]\n",
    "c = 3\n",
    "n_features = 2\n",
    "x1 = np.random.multivariate_normal([2,3],[[2,0.8],[0.8,3]],n[0])\n",
    "x2 = np.random.multivariate_normal([5,4],[[1.5,0.6],[0.6,2]],n[1])\n",
    "x3 = np.random.multivariate_normal([1,3],[[3.7,0.3],[0.3,2.5]],n[2])\n",
    "X = np.vstack((x1,x2,x3))"
   ]
  },
  {
   "cell_type": "code",
   "execution_count": 39,
   "metadata": {},
   "outputs": [],
   "source": [
    "#compute mean of c classes\n",
    "mu1 = np.mean(x1,axis=0).reshape(1,n_features)\n",
    "mu2 = np.mean(x2,axis=0).reshape(1,n_features)\n",
    "mu3 = np.mean(x3,axis=0).reshape(1,n_features)\n",
    "mu = np.mean(X,axis=0).reshape(1,n_features)\n",
    "means = {'m1':mu1,'m2':mu2,'m3':mu3}"
   ]
  },
  {
   "cell_type": "code",
   "execution_count": 40,
   "metadata": {},
   "outputs": [],
   "source": [
    "#compute covariance matrix of c classes\n",
    "s1 = np.dot((x1-mu1).T,(x1-mu1))/5\n",
    "s2 = np.dot((x2-mu2).T,(x2-mu2))/5\n",
    "s3 = np.dot((x3-mu3).T,(x3-mu3))/5"
   ]
  },
  {
   "cell_type": "code",
   "execution_count": 41,
   "metadata": {},
   "outputs": [
    {
     "name": "stdout",
     "output_type": "stream",
     "text": [
      "[[19.44366124 24.1741697 ]\n",
      " [24.1741697  48.37490715]]\n",
      "[[129.00374403  97.56676199]\n",
      " [ 97.56676199  81.08460223]]\n",
      "[[11.52600567  9.3403758 ]\n",
      " [ 9.3403758  23.23462617]]\n"
     ]
    }
   ],
   "source": [
    "print(cov1)\n",
    "print(cov2)\n",
    "print(cov3)"
   ]
  },
  {
   "cell_type": "code",
   "execution_count": 42,
   "metadata": {},
   "outputs": [
    {
     "name": "stdout",
     "output_type": "stream",
     "text": [
      "[[47.5293901   4.22808629]\n",
      " [ 4.22808629 35.04502613]]\n"
     ]
    }
   ],
   "source": [
    "#compute within class scatter matrix\n",
    "sw = s1 + s2 + s3\n",
    "print(sw)"
   ]
  },
  {
   "cell_type": "code",
   "execution_count": 43,
   "metadata": {},
   "outputs": [
    {
     "name": "stdout",
     "output_type": "stream",
     "text": [
      "[[44.42931964 11.17103731]\n",
      " [11.17103731  4.10682433]]\n"
     ]
    }
   ],
   "source": [
    "#compute between class scatter matrix\n",
    "sb = np.zeros((n_features,n_features))\n",
    "for i in range(c):\n",
    "    sb += n[i]*np.dot((means['m'+str(i+1)]-mu).T,(means['m'+str(i+1)]-mu))\n",
    "print(sb)"
   ]
  },
  {
   "cell_type": "code",
   "execution_count": 44,
   "metadata": {},
   "outputs": [
    {
     "name": "stdout",
     "output_type": "stream",
     "text": [
      "[[0.91625312 0.22704643]\n",
      " [0.20821899 0.08979455]]\n"
     ]
    }
   ],
   "source": [
    "#calculate sw^-1*sb\n",
    "sw_inv = np.linalg.inv(sw)\n",
    "sw_inv_sb = np.dot(sw_inv,sb)\n",
    "print(sw_inv_sb)"
   ]
  },
  {
   "cell_type": "code",
   "execution_count": 45,
   "metadata": {},
   "outputs": [],
   "source": [
    "#calculate eigen values and eigen vectors\n",
    "lambd,vecs = np.linalg.eig(sw_inv_sb)"
   ]
  },
  {
   "cell_type": "code",
   "execution_count": 46,
   "metadata": {},
   "outputs": [
    {
     "name": "stdout",
     "output_type": "stream",
     "text": [
      "[0.96996475 0.03608292]\n",
      "[[ 0.97314035 -0.24978079]\n",
      " [ 0.23021264  0.96830241]]\n"
     ]
    }
   ],
   "source": [
    "print(lambd)\n",
    "print(vecs)"
   ]
  },
  {
   "cell_type": "code",
   "execution_count": 47,
   "metadata": {},
   "outputs": [
    {
     "name": "stdout",
     "output_type": "stream",
     "text": [
      "0.9699647487186839\n",
      "[0.97314035 0.23021264]\n"
     ]
    }
   ],
   "source": [
    "#find projections\n",
    "max_lamb_idx = np.argmax(lambd)\n",
    "print(lambd[max_lamb_idx])\n",
    "w = vecs[:,max_lamb_idx]\n",
    "print(w)"
   ]
  },
  {
   "cell_type": "code",
   "execution_count": 48,
   "metadata": {},
   "outputs": [],
   "source": [
    "#reduce dimensionality\n",
    "x1 = np.dot(x1,w.reshape(n_features,1))\n",
    "x2 = np.dot(x2,w.reshape(n_features,1))\n",
    "x3 = np.dot(x3,w.reshape(n_features,1))"
   ]
  },
  {
   "cell_type": "code",
   "execution_count": 49,
   "metadata": {},
   "outputs": [
    {
     "name": "stdout",
     "output_type": "stream",
     "text": [
      "[[ 0.4832673 ]\n",
      " [-0.19569625]\n",
      " [ 1.82709223]\n",
      " [ 0.5517732 ]\n",
      " [ 3.56124444]]\n"
     ]
    }
   ],
   "source": [
    "print(x1)"
   ]
  },
  {
   "cell_type": "code",
   "execution_count": null,
   "metadata": {},
   "outputs": [],
   "source": []
  }
 ],
 "metadata": {
  "kernelspec": {
   "display_name": "Python 3",
   "language": "python",
   "name": "python3"
  },
  "language_info": {
   "codemirror_mode": {
    "name": "ipython",
    "version": 3
   },
   "file_extension": ".py",
   "mimetype": "text/x-python",
   "name": "python",
   "nbconvert_exporter": "python",
   "pygments_lexer": "ipython3",
   "version": "3.7.1"
  }
 },
 "nbformat": 4,
 "nbformat_minor": 2
}
