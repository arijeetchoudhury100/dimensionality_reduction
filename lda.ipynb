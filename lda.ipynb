{
 "cells": [
  {
   "cell_type": "code",
   "execution_count": 2,
   "metadata": {},
   "outputs": [],
   "source": [
    "import numpy as np"
   ]
  },
  {
   "cell_type": "code",
   "execution_count": 34,
   "metadata": {},
   "outputs": [
    {
     "name": "stdout",
     "output_type": "stream",
     "text": [
      "Original data(2D):\n",
      "[[ 3.0022021   6.07415614]\n",
      " [ 2.49223788  4.59196114]\n",
      " [ 4.00207226  3.48265408]\n",
      " [ 0.92775729  3.72491773]\n",
      " [ 2.67638636  5.06978723]\n",
      " [ 4.50309037  5.53769192]\n",
      " [ 2.63998213  0.7169063 ]\n",
      " [ 7.13948454  4.17420251]\n",
      " [ 6.41748961  5.52953526]\n",
      " [ 3.95246342  3.14740067]\n",
      " [ 0.97835729  1.73466187]\n",
      " [-0.8464021   4.38810842]\n",
      " [-0.22064443  4.3113048 ]\n",
      " [ 0.31317845  1.69652722]\n",
      " [ 4.74123861  2.10671862]]\n"
     ]
    }
   ],
   "source": [
    "#generate random data points\n",
    "n = [5,5,5]\n",
    "c = 3\n",
    "n_features = 2\n",
    "d_features = 1\n",
    "x1 = np.random.multivariate_normal([2,3],[[2,0.8],[0.8,3]],n[0])\n",
    "x2 = np.random.multivariate_normal([5,4],[[1.5,0.6],[0.6,2]],n[1])\n",
    "x3 = np.random.multivariate_normal([1,3],[[3.7,0.3],[0.3,2.5]],n[2])\n",
    "X = np.vstack((x1,x2,x3))\n",
    "print('Original data(2D):')\n",
    "print(X)"
   ]
  },
  {
   "cell_type": "code",
   "execution_count": 35,
   "metadata": {},
   "outputs": [
    {
     "name": "stdout",
     "output_type": "stream",
     "text": [
      "means: {'m1': array([[2.62013118, 4.58869526]]), 'm2': array([[4.93050202, 3.82114733]]), 'm3': array([[0.99314556, 2.84746419]])}\n"
     ]
    }
   ],
   "source": [
    "#compute mean of c classes\n",
    "mu1 = np.mean(x1,axis=0).reshape(1,n_features)\n",
    "mu2 = np.mean(x2,axis=0).reshape(1,n_features)\n",
    "mu3 = np.mean(x3,axis=0).reshape(1,n_features)\n",
    "mu = np.mean(X,axis=0).reshape(1,n_features)\n",
    "means = {'m1':mu1,'m2':mu2,'m3':mu3}\n",
    "print('means:',means)"
   ]
  },
  {
   "cell_type": "code",
   "execution_count": 23,
   "metadata": {},
   "outputs": [],
   "source": [
    "#compute covariance matrix of c classes\n",
    "s1 = np.dot((x1-mu1).T,(x1-mu1))/5\n",
    "s2 = np.dot((x2-mu2).T,(x2-mu2))/5\n",
    "s3 = np.dot((x3-mu3).T,(x3-mu3))/5"
   ]
  },
  {
   "cell_type": "code",
   "execution_count": 37,
   "metadata": {},
   "outputs": [
    {
     "name": "stdout",
     "output_type": "stream",
     "text": [
      "covariance matrices:\n",
      "[[0.36525621 0.47633326]\n",
      " [0.47633326 2.34619444]]\n",
      "[[0.29084277 0.07168205]\n",
      " [0.07168205 1.4514214 ]]\n",
      "[[2.62257854 0.95436989]\n",
      " [0.95436989 2.65566347]]\n"
     ]
    }
   ],
   "source": [
    "print('covariance matrices:')\n",
    "print(s1)\n",
    "print(s2)\n",
    "print(s3)"
   ]
  },
  {
   "cell_type": "code",
   "execution_count": 38,
   "metadata": {},
   "outputs": [
    {
     "name": "stdout",
     "output_type": "stream",
     "text": [
      "within class scatter matrix:\n",
      "[[3.27867752 1.5023852 ]\n",
      " [1.5023852  6.45327931]]\n"
     ]
    }
   ],
   "source": [
    "#compute within class scatter matrix\n",
    "sw = s1 + s2 + s3\n",
    "print('within class scatter matrix:')\n",
    "print(sw)"
   ]
  },
  {
   "cell_type": "code",
   "execution_count": 39,
   "metadata": {},
   "outputs": [
    {
     "name": "stdout",
     "output_type": "stream",
     "text": [
      "between class scatter matrix:\n",
      "[[39.14611906  8.15562531]\n",
      " [ 8.15562531  7.61512393]]\n"
     ]
    }
   ],
   "source": [
    "#compute between class scatter matrix\n",
    "sb = np.zeros((n_features,n_features))\n",
    "for i in range(c):\n",
    "    sb += n[i]*np.dot((means['m'+str(i+1)]-mu).T,(means['m'+str(i+1)]-mu))\n",
    "print('between class scatter matrix:')\n",
    "print(sb)"
   ]
  },
  {
   "cell_type": "code",
   "execution_count": 27,
   "metadata": {},
   "outputs": [
    {
     "name": "stdout",
     "output_type": "stream",
     "text": [
      "[[ 0.34142419 -0.07948682]\n",
      " [-0.07948682  0.17346527]]\n",
      "[[14.10890874  2.70874308]\n",
      " [-1.84120634  0.28894176]]\n"
     ]
    }
   ],
   "source": [
    "#calculate sw^-1*sb\n",
    "sw_inv = np.linalg.inv(sw)\n",
    "print(sw_inv)\n",
    "sw_inv_sb = np.dot(sw_inv,sb)\n",
    "print(sw_inv_sb)"
   ]
  },
  {
   "cell_type": "code",
   "execution_count": 28,
   "metadata": {},
   "outputs": [],
   "source": [
    "#calculate eigen values and eigen vectors\n",
    "lambd,vecs = np.linalg.eig(sw_inv_sb)"
   ]
  },
  {
   "cell_type": "code",
   "execution_count": 41,
   "metadata": {},
   "outputs": [
    {
     "name": "stdout",
     "output_type": "stream",
     "text": [
      "eigen values: [13.73807786  0.65977263]\n",
      "eigen vectors:\n",
      " [[ 0.99075869 -0.19744171]\n",
      " [-0.13563631  0.98031463]]\n"
     ]
    }
   ],
   "source": [
    "print('eigen values:',lambd)\n",
    "print('eigen vectors:\\n',vecs)"
   ]
  },
  {
   "cell_type": "code",
   "execution_count": 43,
   "metadata": {},
   "outputs": [
    {
     "name": "stdout",
     "output_type": "stream",
     "text": [
      "13.73807786239171\n",
      "projection vector:\n",
      " [[ 0.99075869]\n",
      " [-0.13563631]]\n"
     ]
    }
   ],
   "source": [
    "#find projections\n",
    "max_idx = np.argmax(lambd)\n",
    "print(lambd[max_idx])\n",
    "w = vecs[:,max_idx].reshape(n_features,d_features)\n",
    "print('projection vector:\\n',w)"
   ]
  },
  {
   "cell_type": "code",
   "execution_count": 44,
   "metadata": {},
   "outputs": [],
   "source": [
    "#reduce dimensionality\n",
    "x1n = np.dot(x1,w)\n",
    "x2n = np.dot(x2,w)\n",
    "x3n = np.dot(x3,w)"
   ]
  },
  {
   "cell_type": "code",
   "execution_count": 45,
   "metadata": {},
   "outputs": [
    {
     "name": "stdout",
     "output_type": "stream",
     "text": [
      "reduced data(1D):\n",
      "[[ 2.15058171]\n",
      " [ 1.84636969]\n",
      " [ 3.49271354]\n",
      " [ 0.41394951]\n",
      " [ 1.96400583]\n",
      " [ 3.71036384]\n",
      " [ 2.51834673]\n",
      " [ 6.50733297]\n",
      " [ 5.60817788]\n",
      " [ 3.48903569]\n",
      " [ 0.73403286]\n",
      " [-1.43376708]\n",
      " [-0.80337486]\n",
      " [ 0.08017358]\n",
      " [ 4.41167584]]\n"
     ]
    }
   ],
   "source": [
    "Xn = np.vstack((x1n,x2n,x3n))\n",
    "print('reduced data(1D):')\n",
    "print(Xn)"
   ]
  },
  {
   "cell_type": "code",
   "execution_count": null,
   "metadata": {},
   "outputs": [],
   "source": []
  }
 ],
 "metadata": {
  "kernelspec": {
   "display_name": "Python 3",
   "language": "python",
   "name": "python3"
  },
  "language_info": {
   "codemirror_mode": {
    "name": "ipython",
    "version": 3
   },
   "file_extension": ".py",
   "mimetype": "text/x-python",
   "name": "python",
   "nbconvert_exporter": "python",
   "pygments_lexer": "ipython3",
   "version": "3.7.1"
  }
 },
 "nbformat": 4,
 "nbformat_minor": 2
}
