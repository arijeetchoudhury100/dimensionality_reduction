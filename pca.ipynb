{
 "cells": [
  {
   "cell_type": "code",
   "execution_count": 2,
   "metadata": {},
   "outputs": [],
   "source": [
    "import numpy as np\n",
    "import matplotlib.pyplot as plt"
   ]
  },
  {
   "cell_type": "code",
   "execution_count": 4,
   "metadata": {},
   "outputs": [],
   "source": [
    "#generate sample points\n",
    "n = 5\n",
    "x1 = np.random.multivariate_normal([2,3],[[2,0.8],[0.8,3]],n)\n",
    "x2 = np.random.multivariate_normal([5,4],[[1.5,0.6],[0.6,2]],n)\n",
    "x3 = np.random.multivariate_normal([1,3],[[3.7,0.3],[0.3,2.5]],n)"
   ]
  },
  {
   "cell_type": "code",
   "execution_count": 5,
   "metadata": {},
   "outputs": [
    {
     "name": "stdout",
     "output_type": "stream",
     "text": [
      "(5, 2)\n",
      "(5, 2)\n",
      "(5, 2)\n"
     ]
    }
   ],
   "source": [
    "print(x1.shape)\n",
    "print(x2.shape)\n",
    "print(x3.shape)"
   ]
  },
  {
   "cell_type": "code",
   "execution_count": 6,
   "metadata": {},
   "outputs": [
    {
     "name": "stdout",
     "output_type": "stream",
     "text": [
      "original data:\n",
      " [[ 2.31206285  3.84668649]\n",
      " [ 2.62057273  4.25276128]\n",
      " [ 1.25929619  2.59238549]\n",
      " [ 2.41620021  4.31773078]\n",
      " [ 2.13989564  6.10709047]\n",
      " [ 3.89750209  1.8147391 ]\n",
      " [ 3.71082389  0.68239536]\n",
      " [ 6.63590593  2.25186463]\n",
      " [ 2.94548054  4.21030746]\n",
      " [ 5.62583027  7.49904786]\n",
      " [ 4.53820123  0.14323434]\n",
      " [ 0.20103765  3.13886547]\n",
      " [-2.54099432  2.09289014]\n",
      " [-1.73564793  0.85428146]\n",
      " [ 5.41154171  3.9126181 ]]\n",
      "no. of samples: 15\n",
      "no. of features: 2\n"
     ]
    }
   ],
   "source": [
    "#X = np.vstack((x1,x2,x3))\n",
    "X = np.vstack((x1,x2,x3))\n",
    "print('original data:\\n',X)\n",
    "n_samples,n_features = X.shape\n",
    "d_features = 1 #reduced dimensionality\n",
    "print('no. of samples:',n_samples)\n",
    "print('no. of features:',n_features)"
   ]
  },
  {
   "cell_type": "code",
   "execution_count": 7,
   "metadata": {},
   "outputs": [
    {
     "name": "stdout",
     "output_type": "stream",
     "text": [
      "mean: [[2.62918058 3.18112656]]\n"
     ]
    }
   ],
   "source": [
    "#calculate mean of the data\n",
    "mu = np.mean(X,axis=0).reshape(1,n_features)\n",
    "print('mean:',mu)\n",
    "#print(mu.shape)"
   ]
  },
  {
   "cell_type": "code",
   "execution_count": 8,
   "metadata": {},
   "outputs": [
    {
     "name": "stdout",
     "output_type": "stream",
     "text": [
      "zero mean data:\n",
      " [[-0.31711773  0.66555993]\n",
      " [-0.00860785  1.07163472]\n",
      " [-1.36988439 -0.58874107]\n",
      " [-0.21298036  1.13660422]\n",
      " [-0.48928494  2.92596391]\n",
      " [ 1.26832151 -1.36638746]\n",
      " [ 1.08164332 -2.49873121]\n",
      " [ 4.00672535 -0.92926193]\n",
      " [ 0.31629996  1.0291809 ]\n",
      " [ 2.99664969  4.3179213 ]\n",
      " [ 1.90902065 -3.03789222]\n",
      " [-2.42814293 -0.04226109]\n",
      " [-5.1701749  -1.08823642]\n",
      " [-4.36482851 -2.3268451 ]\n",
      " [ 2.78236113  0.73149154]]\n"
     ]
    }
   ],
   "source": [
    "#subtract mean from data to make mean of data 0\n",
    "X = X - mu\n",
    "print('zero mean data:\\n',X)"
   ]
  },
  {
   "cell_type": "code",
   "execution_count": 10,
   "metadata": {},
   "outputs": [
    {
     "name": "stdout",
     "output_type": "stream",
     "text": [
      "covariance matrix:\n",
      " [[6.2159056  1.0759624 ]\n",
      " [1.0759624  3.78887336]]\n"
     ]
    }
   ],
   "source": [
    "#compute covariance matrix\n",
    "cov = np.dot(X.T,X)/15\n",
    "print('covariance matrix:\\n',cov)"
   ]
  },
  {
   "cell_type": "code",
   "execution_count": 11,
   "metadata": {},
   "outputs": [
    {
     "name": "stdout",
     "output_type": "stream",
     "text": [
      "eigen values: [3.38056444 6.62421452]\n",
      "eigen vectors:\n",
      " [[ 0.35479496 -0.93494414]\n",
      " [-0.93494414 -0.35479496]]\n"
     ]
    }
   ],
   "source": [
    "#find eigen values and eigen vectors\n",
    "#lambd contains eigen values in ascending order\n",
    "#each column of vecs contains eigen vectors. vecs[:,i] is the eigen vector corresponding to lambd[i]\n",
    "lambd,vecs = np.linalg.eigh(cov)\n",
    "print('eigen values:',lambd)\n",
    "print('eigen vectors:\\n',vecs)"
   ]
  },
  {
   "cell_type": "code",
   "execution_count": 12,
   "metadata": {},
   "outputs": [
    {
     "name": "stdout",
     "output_type": "stream",
     "text": [
      "[[-0.93494414]\n",
      " [-0.35479496]]\n"
     ]
    }
   ],
   "source": [
    "#project the data\n",
    "#select eigen vectors corresponding to the maximum eigen values\n",
    "w = vecs[:,1].reshape(n_features,d_features)\n",
    "print(w)"
   ]
  },
  {
   "cell_type": "code",
   "execution_count": 14,
   "metadata": {},
   "outputs": [
    {
     "name": "stdout",
     "output_type": "stream",
     "text": [
      "Reduced data(1D):\n",
      " [[ 0.06035006]\n",
      " [-0.37216274]\n",
      " [ 1.48964774]\n",
      " [-0.2041367 ]\n",
      " [-0.58066315]\n",
      " [-0.70102238]\n",
      " [-0.12473885]\n",
      " [-3.41636693]\n",
      " [-0.66087098]\n",
      " [-4.33367675]\n",
      " [-0.70699883]\n",
      " [ 2.28517202]\n",
      " [ 5.2199255 ]\n",
      " [ 4.90642372]\n",
      " [-2.86088174]]\n"
     ]
    }
   ],
   "source": [
    "final_data = np.dot(w.T,X.T).reshape(n_samples,d_features)\n",
    "print('Reduced data(1D):\\n',final_data)"
   ]
  },
  {
   "cell_type": "code",
   "execution_count": null,
   "metadata": {},
   "outputs": [],
   "source": []
  }
 ],
 "metadata": {
  "kernelspec": {
   "display_name": "Python 3",
   "language": "python",
   "name": "python3"
  },
  "language_info": {
   "codemirror_mode": {
    "name": "ipython",
    "version": 3
   },
   "file_extension": ".py",
   "mimetype": "text/x-python",
   "name": "python",
   "nbconvert_exporter": "python",
   "pygments_lexer": "ipython3",
   "version": "3.7.1"
  }
 },
 "nbformat": 4,
 "nbformat_minor": 2
}
