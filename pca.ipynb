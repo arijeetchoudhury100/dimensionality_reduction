{
 "cells": [
  {
   "cell_type": "code",
   "execution_count": 1,
   "metadata": {},
   "outputs": [],
   "source": [
    "#import numpy as np\n",
    "import matplotlib.pyplot as plt"
   ]
  },
  {
   "cell_type": "code",
   "execution_count": 2,
   "metadata": {},
   "outputs": [],
   "source": [
    "%matplotlib inline"
   ]
  },
  {
   "cell_type": "code",
   "execution_count": 43,
   "metadata": {},
   "outputs": [],
   "source": [
    "#generate sample points\n",
    "n = 50\n",
    "x1 = np.random.multivariate_normal([2,3],[[2,0.8],[0.8,3]],n)\n",
    "x2 = np.random.multivariate_normal([5,4],[[1.5,0.6],[0.6,2]],n)\n",
    "x3 = np.random.multivariate_normal([1,3],[[3.7,0.3],[0.3,2.5]],n)"
   ]
  },
  {
   "cell_type": "code",
   "execution_count": 44,
   "metadata": {},
   "outputs": [
    {
     "name": "stdout",
     "output_type": "stream",
     "text": [
      "(50, 2)\n",
      "(50, 2)\n",
      "(50, 2)\n"
     ]
    }
   ],
   "source": [
    "print(x1.shape)\n",
    "print(x2.shape)\n",
    "print(x3.shape)"
   ]
  },
  {
   "cell_type": "code",
   "execution_count": 45,
   "metadata": {},
   "outputs": [
    {
     "name": "stdout",
     "output_type": "stream",
     "text": [
      "(150, 2)\n",
      "no. of samples: 150\n",
      "no. of features: 2\n"
     ]
    }
   ],
   "source": [
    "X = np.vstack((x1,x2,x3))\n",
    "print(X.shape)\n",
    "n_samples,n_features = X.shape\n",
    "d_features = 1 #reduced dimensionality\n",
    "print('no. of samples:',n_samples)\n",
    "print('no. of features:',n_features)"
   ]
  },
  {
   "cell_type": "code",
   "execution_count": 46,
   "metadata": {},
   "outputs": [
    {
     "name": "stdout",
     "output_type": "stream",
     "text": [
      "(1, 2)\n"
     ]
    }
   ],
   "source": [
    "#calculate mean of the data\n",
    "mu = np.mean(X,axis=0).reshape(1,n_features)\n",
    "print(mu.shape)"
   ]
  },
  {
   "cell_type": "code",
   "execution_count": 47,
   "metadata": {},
   "outputs": [
    {
     "name": "stdout",
     "output_type": "stream",
     "text": [
      "(150, 2)\n"
     ]
    }
   ],
   "source": [
    "#subtract mean from data to make mean of data 0\n",
    "X = X - mu\n",
    "print(X.shape)"
   ]
  },
  {
   "cell_type": "code",
   "execution_count": 48,
   "metadata": {},
   "outputs": [
    {
     "name": "stdout",
     "output_type": "stream",
     "text": [
      "[[816.04884176 274.14883664]\n",
      " [274.14883664 436.09920498]]\n"
     ]
    }
   ],
   "source": [
    "#compute covariance matrix\n",
    "cov = np.dot(X.T,X)\n",
    "print(cov)"
   ]
  },
  {
   "cell_type": "code",
   "execution_count": 49,
   "metadata": {},
   "outputs": [
    {
     "name": "stdout",
     "output_type": "stream",
     "text": [
      "[292.53539554 959.6126512 ]\n",
      "[[ 0.46391073 -0.88588195]\n",
      " [-0.88588195 -0.46391073]]\n"
     ]
    }
   ],
   "source": [
    "#find eigen values and eigen vectors\n",
    "#lambd contains eigen values in ascending order\n",
    "#each column of vecs contains eigen vectors. vecs[:,i] is the eigen vector corresponding to lambd[i]\n",
    "lambd,vecs = np.linalg.eigh(cov)\n",
    "print(lambd)\n",
    "print(vecs)"
   ]
  },
  {
   "cell_type": "code",
   "execution_count": 50,
   "metadata": {},
   "outputs": [
    {
     "name": "stdout",
     "output_type": "stream",
     "text": [
      "[[-0.88588195]\n",
      " [-0.46391073]]\n"
     ]
    }
   ],
   "source": [
    "#project the data\n",
    "#select eigen vectors corresponding to the maximum eigen values\n",
    "w = vecs[:,-1].reshape(n_features,d_features)\n",
    "print(w)"
   ]
  },
  {
   "cell_type": "code",
   "execution_count": 51,
   "metadata": {},
   "outputs": [
    {
     "name": "stdout",
     "output_type": "stream",
     "text": [
      "[[ 1.29386801]\n",
      " [-0.41091859]\n",
      " [-0.1214389 ]\n",
      " [ 3.37942845]\n",
      " [-0.61604518]\n",
      " [ 2.42926472]\n",
      " [-1.82773461]\n",
      " [ 1.9082842 ]\n",
      " [ 0.18255328]\n",
      " [ 0.59270474]\n",
      " [-0.36505841]\n",
      " [-0.28772787]\n",
      " [-0.66005655]\n",
      " [ 0.83980248]\n",
      " [ 0.62381132]\n",
      " [ 1.59452449]\n",
      " [ 0.74346148]\n",
      " [ 2.51882112]\n",
      " [ 3.21538214]\n",
      " [ 0.76645415]\n",
      " [-0.37824235]\n",
      " [-0.13191288]\n",
      " [ 1.13358531]\n",
      " [ 2.44811472]\n",
      " [-0.03982217]\n",
      " [-2.34202363]\n",
      " [ 1.4534004 ]\n",
      " [-1.14811545]\n",
      " [ 0.13030535]\n",
      " [-1.61841197]\n",
      " [-0.64264264]\n",
      " [ 0.53785738]\n",
      " [ 0.56819784]\n",
      " [ 0.38857167]\n",
      " [ 0.766377  ]\n",
      " [ 3.96512169]\n",
      " [ 3.62698432]\n",
      " [ 2.75194866]\n",
      " [ 3.58940687]\n",
      " [-0.60291443]\n",
      " [ 0.77676731]\n",
      " [ 2.22784117]\n",
      " [-0.59367449]\n",
      " [ 2.76876431]\n",
      " [ 2.18126368]\n",
      " [ 0.76525409]\n",
      " [ 3.54141868]\n",
      " [ 1.79043638]\n",
      " [ 2.50411937]\n",
      " [-2.42373988]\n",
      " [ 0.43541978]\n",
      " [-4.28796893]\n",
      " [-0.76710631]\n",
      " [-4.67657855]\n",
      " [-2.09214047]\n",
      " [-1.67096028]\n",
      " [-2.08000476]\n",
      " [-4.71278587]\n",
      " [-0.71870608]\n",
      " [-2.85813514]\n",
      " [-2.36363242]\n",
      " [-4.27510352]\n",
      " [-2.74756032]\n",
      " [-2.24027315]\n",
      " [-2.17889223]\n",
      " [-1.34788258]\n",
      " [-2.24584702]\n",
      " [-2.68759712]\n",
      " [ 0.7329662 ]\n",
      " [-3.52441232]\n",
      " [-3.31227885]\n",
      " [-1.29602904]\n",
      " [-1.83322929]\n",
      " [-4.21234745]\n",
      " [-4.14972518]\n",
      " [-3.17606191]\n",
      " [-3.27949321]\n",
      " [-1.25750413]\n",
      " [-3.8311981 ]\n",
      " [-3.38683064]\n",
      " [-1.9263839 ]\n",
      " [-2.8971088 ]\n",
      " [-3.1665126 ]\n",
      " [-5.04403161]\n",
      " [-2.0912225 ]\n",
      " [-2.35023836]\n",
      " [-0.45472994]\n",
      " [-2.42994223]\n",
      " [-4.5003569 ]\n",
      " [-3.74276209]\n",
      " [-1.84058528]\n",
      " [-0.08741746]\n",
      " [-5.43910548]\n",
      " [-2.98057508]\n",
      " [-1.62084099]\n",
      " [-1.68061098]\n",
      " [-4.34595537]\n",
      " [-1.3931991 ]\n",
      " [-1.29123405]\n",
      " [-4.73013909]\n",
      " [ 1.76818416]\n",
      " [-3.220706  ]\n",
      " [ 0.95362791]\n",
      " [ 2.68029683]\n",
      " [ 5.97282141]\n",
      " [ 4.35252578]\n",
      " [ 4.07288891]\n",
      " [-1.60113214]\n",
      " [ 1.93148838]\n",
      " [ 0.82171466]\n",
      " [ 1.35548587]\n",
      " [ 1.36448688]\n",
      " [ 4.93351887]\n",
      " [ 4.03775213]\n",
      " [ 2.15968942]\n",
      " [ 0.65240667]\n",
      " [ 0.19953543]\n",
      " [ 3.64060543]\n",
      " [ 6.68357463]\n",
      " [ 4.203658  ]\n",
      " [-1.71032252]\n",
      " [ 4.6839152 ]\n",
      " [ 3.57099043]\n",
      " [ 2.55005617]\n",
      " [ 0.22445389]\n",
      " [ 1.09525668]\n",
      " [ 1.53344148]\n",
      " [ 1.70479726]\n",
      " [ 2.30171253]\n",
      " [ 2.86225595]\n",
      " [ 2.13307116]\n",
      " [-0.07567756]\n",
      " [ 2.0836482 ]\n",
      " [ 0.4948945 ]\n",
      " [-1.75398444]\n",
      " [ 0.37415763]\n",
      " [ 2.04619952]\n",
      " [ 3.55981732]\n",
      " [-0.92798052]\n",
      " [ 1.3108911 ]\n",
      " [ 1.04852653]\n",
      " [ 3.2707315 ]\n",
      " [ 2.39489094]\n",
      " [ 0.256355  ]\n",
      " [ 0.61348083]\n",
      " [ 0.683766  ]\n",
      " [ 1.80928182]\n",
      " [-1.30358117]\n",
      " [-0.32944279]\n",
      " [ 2.793208  ]]\n"
     ]
    }
   ],
   "source": [
    "final_data = np.dot(w.T,X.T).reshape(n_samples,d_features)\n",
    "print(final_data)"
   ]
  },
  {
   "cell_type": "code",
   "execution_count": null,
   "metadata": {},
   "outputs": [],
   "source": []
  }
 ],
 "metadata": {
  "kernelspec": {
   "display_name": "Python 3",
   "language": "python",
   "name": "python3"
  },
  "language_info": {
   "codemirror_mode": {
    "name": "ipython",
    "version": 3
   },
   "file_extension": ".py",
   "mimetype": "text/x-python",
   "name": "python",
   "nbconvert_exporter": "python",
   "pygments_lexer": "ipython3",
   "version": "3.7.1"
  }
 },
 "nbformat": 4,
 "nbformat_minor": 2
}
